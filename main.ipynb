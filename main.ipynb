{
 "cells": [
  {
   "cell_type": "code",
   "id": "initial_id",
   "metadata": {
    "collapsed": true,
    "ExecuteTime": {
     "end_time": "2024-04-14T07:56:40.886414Z",
     "start_time": "2024-04-14T07:56:40.722823Z"
    }
   },
   "source": [
    "import random\n",
    "import numpy as np\n",
    "from deap import base, creator, tools, algorithms"
   ],
   "outputs": [],
   "execution_count": 1
  },
  {
   "metadata": {
    "ExecuteTime": {
     "end_time": "2024-04-14T17:08:29.973120Z",
     "start_time": "2024-04-14T17:08:29.969321Z"
    }
   },
   "cell_type": "code",
   "source": [
    "STEPS_NUM = 60\n",
    "GENERATIONS = 40"
   ],
   "id": "40692f2753fed6bb",
   "outputs": [],
   "execution_count": 14
  },
  {
   "metadata": {
    "ExecuteTime": {
     "end_time": "2024-04-14T17:08:30.677348Z",
     "start_time": "2024-04-14T17:08:30.675045Z"
    }
   },
   "cell_type": "code",
   "source": [
    "# Define two strategies that players can use in the game\n",
    "\n",
    "# myhistory is a list of the player's choices in the past\n",
    "# otherhistory is a list of the opponent's choices in the past\n",
    "\n",
    "# The function should return 0 for defection and 1 for cooperation\n",
    "def always_cooperate(myhistory, otherhistory):\n",
    "    # This function cooperates if the opponent cooperated more than they defected in their history\n",
    "    if otherhistory.count(0) > otherhistory.count(1):\n",
    "        return 0\n",
    "    # If the player has been defecting too much in their history, cooperate\n",
    "    elif myhistory.count(1) > myhistory.count(0):\n",
    "        return 0\n",
    "    else:\n",
    "        return 1  # Defect otherwise\n",
    "\n",
    "# The function should return 0 for defection and 1 for cooperation\n",
    "def random_answer(myhistory, otherhistory):\n",
    "    # This function returns a random answer, but it's more likely to cooperate if the opponent cooperated more in their history\n",
    "    if otherhistory.count(0) > otherhistory.count(1):\n",
    "        return random.choices([0, 1], weights=[0.7, 0.3], k=1)[0]  # 70% chance to cooperate\n",
    "    # If the player has been cooperating too much in their history, defect\n",
    "    elif myhistory.count(0) > myhistory.count(1):\n",
    "        return random.choices([0, 1], weights=[0.3, 0.7], k=1)[0]  # 70% chance to defect\n",
    "    else:\n",
    "        return random.randint(0, 1)  # Random choice otherwise\n"
   ],
   "id": "37e71bc4f5c090ed",
   "outputs": [],
   "execution_count": 15
  },
  {
   "metadata": {
    "ExecuteTime": {
     "end_time": "2024-04-14T17:08:31.158065Z",
     "start_time": "2024-04-14T17:08:31.155465Z"
    }
   },
   "cell_type": "code",
   "source": [
    "# Defines the score distribution for a round of the game based on the choices of the two players.\n",
    "def rozdej_skore(tah1, tah2):\n",
    "    if (tah1 == 1) and (tah2 == 1):\n",
    "        return 2, 2\n",
    "    if (tah1 == 1) and (tah2 == 0):\n",
    "        return 0, 3\n",
    "    if (tah1 == 0) and (tah2 == 1):\n",
    "        return 3, 0\n",
    "    if (tah1 == 0) and (tah2 == 0):\n",
    "        return 1, 1"
   ],
   "id": "3bc86220d3a6b06d",
   "outputs": [],
   "execution_count": 16
  },
  {
   "metadata": {
    "ExecuteTime": {
     "end_time": "2024-04-14T17:08:31.661103Z",
     "start_time": "2024-04-14T17:08:31.658069Z"
    }
   },
   "cell_type": "code",
   "source": [
    "# Function simulates a game between two players for a given number of steps. \n",
    "# It keeps track of the history of choices and calculates the total score for each player\n",
    "def play(f1, f2, stepsnum):\n",
    "    skore1 = 0\n",
    "    skore2 = 0\n",
    "    historie1 = []\n",
    "    historie2 = []\n",
    "    for i in range(stepsnum):\n",
    "        tah1 = f1(historie1, historie2)\n",
    "        tah2 = f2(historie2, historie1)\n",
    "        s1, s2 = rozdej_skore(tah1, tah2)\n",
    "        skore1 += s1\n",
    "        skore2 += s2\n",
    "        historie1.append(tah1)\n",
    "        historie2.append(tah2)\n",
    "    return skore1, skore2"
   ],
   "id": "79dc96a6b9d159eb",
   "outputs": [],
   "execution_count": 17
  },
  {
   "metadata": {
    "ExecuteTime": {
     "end_time": "2024-04-14T17:08:32.309239Z",
     "start_time": "2024-04-14T17:08:32.306695Z"
    }
   },
   "cell_type": "code",
   "source": [
    "# Fitness function for the genetic algorithm\n",
    "# The individual is a list of two integers, the first one is the threshold for the opponent's cooperation\n",
    "# The second one is the threshold for the player's defection\n",
    "# The function returns the total score of the player against all the opponents\n",
    "def fitness(individual):\n",
    "    def strategy(myhistory, otherhistory):\n",
    "        if otherhistory.count(1) > individual[0] and myhistory.count(0) > individual[1]:\n",
    "            return 1\n",
    "        return 0\n",
    "    total_score = 0\n",
    "    # Play against all the opponents\n",
    "    for opponent in ucastnici:\n",
    "        # Play the game and add the score to the total\n",
    "        # We are only interested in the player's score\n",
    "        my_score, _ = play(strategy, opponent, STEPS_NUM)\n",
    "        total_score += my_score\n",
    "    return total_score,"
   ],
   "id": "b93461a514c3455a",
   "outputs": [],
   "execution_count": 18
  },
  {
   "metadata": {
    "ExecuteTime": {
     "end_time": "2024-04-14T17:08:32.826192Z",
     "start_time": "2024-04-14T17:08:32.823758Z"
    }
   },
   "cell_type": "code",
   "source": [
    "# Crossover function for the genetic algorithm\n",
    "# It swaps the first integer between the two individuals\n",
    "# The second integer is not changed\n",
    "# The function returns the two individuals after the crossover\n",
    "# The probability of crossover is 0.5\n",
    "def one_gene_crossover(ind1, ind2):\n",
    "    if random.random() < 0.5:\n",
    "        ind1[0], ind2[0] = ind2[0], ind1[0]\n",
    "    return ind1, ind2\n"
   ],
   "id": "88cc11231d8b0d77",
   "outputs": [],
   "execution_count": 19
  },
  {
   "metadata": {},
   "cell_type": "code",
   "source": [
    "# Genetic algorithm\n",
    "# We are trying to find the best thresholds for the player's strategy\n",
    "# The thresholds are the number of times the opponent cooperated and the number of times the player defected\n",
    "# The player's strategy is to cooperate if the opponent cooperated more than the threshold\n",
    "# and the player defected more than the threshold\n",
    "creator.create(\"FitnessMax\", base.Fitness, weights=(1.0,))\n",
    "creator.create(\"Individual\", list, fitness=creator.FitnessMax)"
   ],
   "id": "156fe4834bbe29f1",
   "outputs": [],
   "execution_count": null
  },
  {
   "metadata": {
    "ExecuteTime": {
     "end_time": "2024-04-14T17:08:37.690709Z",
     "start_time": "2024-04-14T17:08:37.687871Z"
    }
   },
   "cell_type": "code",
   "source": [
    "toolbox = base.Toolbox()\n",
    "toolbox.register(\"attr_bool\", random.randint, 0, STEPS_NUM)\n",
    "toolbox.register(\"individual\", tools.initRepeat, creator.Individual, toolbox.attr_bool, n=2)\n",
    "toolbox.register(\"population\", tools.initRepeat, list, toolbox.individual)\n",
    "toolbox.register(\"evaluate\", fitness)\n",
    "toolbox.register(\"mate\", one_gene_crossover)\n",
    "toolbox.register(\"mutate\", tools.mutUniformInt, low=0, up=STEPS_NUM, indpb=0.05)\n",
    "toolbox.register(\"select\", tools.selTournament, tournsize=3)"
   ],
   "id": "43cd9b294d40245b",
   "outputs": [],
   "execution_count": 21
  },
  {
   "metadata": {
    "ExecuteTime": {
     "end_time": "2024-04-14T17:08:38.671115Z",
     "start_time": "2024-04-14T17:08:38.668933Z"
    }
   },
   "cell_type": "code",
   "source": [
    "ucastnici = [always_cooperate, random_answer]\n",
    "dlzka_ucastnici = len(ucastnici)\n",
    "# The score of the first strategy is returned as the first value of the tuple\n",
    "skores = [0 for i in range(dlzka_ucastnici)]"
   ],
   "id": "f208c976be0d6a26",
   "outputs": [],
   "execution_count": 22
  },
  {
   "metadata": {
    "ExecuteTime": {
     "end_time": "2024-04-14T17:08:39.472051Z",
     "start_time": "2024-04-14T17:08:39.467800Z"
    }
   },
   "cell_type": "code",
   "source": [
    "print(\"=========================================\")\n",
    "print(\"Tournament\")\n",
    "print(\"Game length:\", STEPS_NUM)\n",
    "print(\"-----------------------------------------\")\n",
    "for i in range(dlzka_ucastnici):\n",
    "    for j in range(i+1, dlzka_ucastnici):\n",
    "        f1 = ucastnici[i]\n",
    "        f2 = ucastnici[j]\n",
    "        skore1, skore2 = play(f1, f2, STEPS_NUM)\n",
    "        print(f\"{f1.__name__} x {f2.__name__}  {skore1} : {skore2}\")\n",
    "        skores[i] += skore1\n",
    "        skores[j] += skore2"
   ],
   "id": "b14ecfb6462d47c5",
   "outputs": [
    {
     "name": "stdout",
     "output_type": "stream",
     "text": [
      "=========================================\n",
      "Tournament\n",
      "Game length: 60\n",
      "-----------------------------------------\n",
      "always_cooperate x random_answer  62 : 59\n"
     ]
    }
   ],
   "execution_count": 23
  },
  {
   "metadata": {},
   "cell_type": "code",
   "source": [
    "print(\"=========================================\")\n",
    "print(\"Final Ranking\")\n",
    "print(\"-----------------------------------------\")\n",
    "# Sort the players based on their total score\n",
    "# The index list contains the indexes of the players sorted by their score\n",
    "# The lambda function is used to sort the indexes based on the scores\n",
    "# The scores are stored in the skores list\n",
    "index = sorted(range(dlzka_ucastnici), key=lambda k: skores[k])\n",
    "poradi = 1\n",
    "for i in index:\n",
    "    f = ucastnici[i]\n",
    "    print(f\"{poradi}. {f.__name__} : {skores[i]}\")\n",
    "    poradi += 1\n",
    "\n",
    "pop = toolbox.population(n=50)\n",
    "hof = tools.HallOfFame(1)\n",
    "stats = tools.Statistics(lambda ind: ind.fitness.values)\n",
    "stats.register(\"avg\", np.mean)\n",
    "stats.register(\"min\", np.min)\n",
    "stats.register(\"max\", np.max)\n",
    "\n",
    "best_gen = 0\n",
    "best_ind = None\n",
    "best_fit = -1\n",
    "\n",
    "# Run the genetic algorithm for a given number of generations\n",
    "# The best individual is the one with the highest fitness value\n",
    "for gen in range(GENERATIONS):\n",
    "    print(f\"Generation {gen}:\")\n",
    "    pop, log = algorithms.eaSimple(pop, toolbox, cxpb=0.5, mutpb=0.2, ngen=1, stats=stats, halloffame=hof, verbose=True)\n",
    "    # Check if the best individual in the hall of fame is better than the previous best individual\n",
    "    # If it is, update the best individual\n",
    "    if hof[0].fitness.values[0] > best_fit:\n",
    "        best_fit = hof[0].fitness.values[0]\n",
    "        best_ind = hof[0]\n",
    "        best_gen = gen"
   ],
   "id": "4b937b4c1eee59ca",
   "outputs": [],
   "execution_count": null
  },
  {
   "metadata": {
    "ExecuteTime": {
     "end_time": "2024-04-14T17:08:46.541443Z",
     "start_time": "2024-04-14T17:08:46.538885Z"
    }
   },
   "cell_type": "code",
   "source": [
    "print(\"=========================================\")\n",
    "print(\"Best individual was found in generation:\", best_gen)\n",
    "print(\"Best individual:\", best_ind)\n",
    "print(\"Fitness:\", best_fit)"
   ],
   "id": "d76489d883e95f5b",
   "outputs": [
    {
     "name": "stdout",
     "output_type": "stream",
     "text": [
      "=========================================\n",
      "Best individual was found in generation: 0\n",
      "Best individual: [24, 35]\n",
      "Fitness: 122.0\n"
     ]
    }
   ],
   "execution_count": 25
  },
  {
   "metadata": {},
   "cell_type": "code",
   "outputs": [],
   "execution_count": null,
   "source": "",
   "id": "f2fad853dd07f1e4"
  }
 ],
 "metadata": {
  "kernelspec": {
   "display_name": "Python 3",
   "language": "python",
   "name": "python3"
  },
  "language_info": {
   "codemirror_mode": {
    "name": "ipython",
    "version": 2
   },
   "file_extension": ".py",
   "mimetype": "text/x-python",
   "name": "python",
   "nbconvert_exporter": "python",
   "pygments_lexer": "ipython2",
   "version": "2.7.6"
  }
 },
 "nbformat": 4,
 "nbformat_minor": 5
}
